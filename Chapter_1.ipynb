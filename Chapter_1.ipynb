{
 "cells": [
  {
   "cell_type": "code",
   "execution_count": 2,
   "metadata": {
    "collapsed": false,
    "deletable": true,
    "editable": true
   },
   "outputs": [
    {
     "data": {
      "text/plain": [
       "42"
      ]
     },
     "execution_count": 2,
     "metadata": {},
     "output_type": "execute_result"
    }
   ],
   "source": [
    "object MyModule {\n",
    "    def abs(n:Int):Int=\n",
    "        if (n<0) -n\n",
    "        else n\n",
    "    \n",
    "    private def formatAbs(x: Int) ={        \n",
    "        val msg = \"The absolute value of %d is %d\"\n",
    "        msg.format(x, abs(x))\n",
    "    }\n",
    "\n",
    "    \n",
    "    def main(args: Array[String]): Unit =\n",
    "        println(formatAbs(-42))\n",
    "}\n",
    "\n",
    "MyModule.abs(-42)"
   ]
  },
  {
   "cell_type": "code",
   "execution_count": 3,
   "metadata": {
    "collapsed": false,
    "deletable": true,
    "editable": true
   },
   "outputs": [
    {
     "data": {
      "text/plain": [
       "24"
      ]
     },
     "execution_count": 3,
     "metadata": {},
     "output_type": "execute_result"
    }
   ],
   "source": [
    "def factorial(n:Int): Int = {\n",
    "    def go(n:Int, acc:Int): Int =\n",
    "        if (n<=0) acc\n",
    "        else go(n-1, n+acc)\n",
    "    \n",
    "    go(n,1)\n",
    "}\n",
    "\n",
    "\n",
    "factorial(4)"
   ]
  },
  {
   "cell_type": "code",
   "execution_count": 2,
   "metadata": {
    "collapsed": false,
    "deletable": true,
    "editable": true
   },
   "outputs": [
    {
     "data": {
      "text/plain": [
       "10"
      ]
     },
     "execution_count": 2,
     "metadata": {},
     "output_type": "execute_result"
    }
   ],
   "source": [
    "// 2.1\n",
    "\n",
    "def fib(n:Int):Int={\n",
    "    def add(n:Int, acc:Int):Int =\n",
    "        if (n<=1) acc\n",
    "        else add(n-1,n+acc)\n",
    "    \n",
    "    add(n,1)\n",
    "}\n",
    "\n",
    "fib(4)"
   ]
  },
  {
   "cell_type": "code",
   "execution_count": null,
   "metadata": {
    "collapsed": true
   },
   "outputs": [],
   "source": []
  }
 ],
 "metadata": {
  "kernelspec": {
   "display_name": "Apache Toree - Scala",
   "language": "scala",
   "name": "apache_toree_scala"
  },
  "language_info": {
   "name": "scala",
   "version": "2.11.8"
  }
 },
 "nbformat": 4,
 "nbformat_minor": 2
}
