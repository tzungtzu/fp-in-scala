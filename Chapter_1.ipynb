{
 "cells": [
  {
   "cell_type": "code",
   "execution_count": 4,
   "metadata": {
    "collapsed": false,
    "deletable": true,
    "editable": true
   },
   "outputs": [
    {
     "data": {
      "text/plain": [
       "The absolute value of -42 is 42"
      ]
     },
     "execution_count": 4,
     "metadata": {},
     "output_type": "execute_result"
    }
   ],
   "source": [
    "object MyModule {\n",
    "    def abs(n:Int):Int=\n",
    "        if (n<0) -n\n",
    "        else n\n",
    "    \n",
    "    def formatAbs(x: Int) ={        \n",
    "        val msg = \"The absolute value of %d is %d\"\n",
    "        msg.format(x, abs(x))\n",
    "    }\n",
    "\n",
    "    \n",
    "    def main(args: Array[String]): Unit =\n",
    "        println(formatAbs(-42))\n",
    "}\n",
    "\n",
    "MyModule.abs(-42)\n",
    "MyModule.formatAbs(-42)"
   ]
  },
  {
   "cell_type": "code",
   "execution_count": 3,
   "metadata": {
    "collapsed": false,
    "deletable": true,
    "editable": true
   },
   "outputs": [
    {
     "data": {
      "text/plain": [
       "24"
      ]
     },
     "execution_count": 3,
     "metadata": {},
     "output_type": "execute_result"
    }
   ],
   "source": [
    "def factorial(n:Int): Int = {\n",
    "    def go(n:Int, acc:Int): Int =\n",
    "        if (n<=0) acc\n",
    "        else go(n-1, n+acc)\n",
    "    \n",
    "    go(n,1)\n",
    "}\n",
    "\n",
    "\n",
    "factorial(4)"
   ]
  },
  {
   "cell_type": "code",
   "execution_count": 2,
   "metadata": {
    "collapsed": false,
    "deletable": true,
    "editable": true
   },
   "outputs": [
    {
     "data": {
      "text/plain": [
       "10"
      ]
     },
     "execution_count": 2,
     "metadata": {},
     "output_type": "execute_result"
    }
   ],
   "source": [
    "// 2.1\n",
    "\n",
    "def fib(n:Int):Int={\n",
    "    def add(n:Int, acc:Int):Int =\n",
    "        if (n<=1) acc\n",
    "        else add(n-1,n+acc)\n",
    "    \n",
    "    add(n,1)\n",
    "}\n",
    "\n",
    "fib(4)"
   ]
  },
  {
   "cell_type": "code",
   "execution_count": 6,
   "metadata": {
    "collapsed": false,
    "deletable": true,
    "editable": true
   },
   "outputs": [
    {
     "data": {
      "text/plain": [
       "the factorial of 5 is 120"
      ]
     },
     "execution_count": 6,
     "metadata": {},
     "output_type": "execute_result"
    }
   ],
   "source": [
    "object MyModule {\n",
    "    def abs(n:Int):Int=\n",
    "        if (n<0) -n\n",
    "        else n\n",
    "    \n",
    "    def formatAbs(x: Int) ={        \n",
    "        val msg = \"The absolute value of %d is %d\"\n",
    "        msg.format(x, abs(x))\n",
    "    }\n",
    "\n",
    "    \n",
    "    def main(args: Array[String]): Unit =\n",
    "        println(formatAbs(-42))\n",
    "    \n",
    "        def factorial(n:Int): Int = {\n",
    "        def go(n:Int, acc:Int): Int =\n",
    "            if (n<=0) acc\n",
    "            else go(n-1, n+acc)\n",
    "    \n",
    "        go(n,1)\n",
    "    }\n",
    "    \n",
    "    def fib(n:Int):Int={\n",
    "        def add(n:Int, acc:Int):Int =\n",
    "            if (n<=1) acc\n",
    "            else add(n-1,n+acc)\n",
    "\n",
    "        add(n,1)\n",
    "    }\n",
    "    \n",
    "    def formatResult(name:String,n:Int,f:Int=>Int)={\n",
    "        val msg = \"the %s of %d is %d\"\n",
    "        msg.format(name,n,f(n))\n",
    "    }\n",
    "    \n",
    "}\n",
    "\n",
    "MyModule.formatResult(\"factorial\",5,factorial)"
   ]
  },
  {
   "cell_type": "code",
   "execution_count": 3,
   "metadata": {
    "collapsed": false,
    "deletable": true,
    "editable": true
   },
   "outputs": [
    {
     "data": {
      "text/plain": [
       "Name: Compile Error\n",
       "Message: <console>:21: error: type mismatch;\n",
       " found   : Int(23425)\n",
       " required: Array[String]\n",
       "       findFirst(23425,5)\n",
       "                 ^\n",
       "<console>:21: error: type mismatch;\n",
       " found   : Int(5)\n",
       " required: String\n",
       "       findFirst(23425,5)\n",
       "                       ^\n",
       "StackTrace: "
      ]
     },
     "execution_count": 3,
     "metadata": {},
     "output_type": "execute_result"
    }
   ],
   "source": [
    "def findFirst(ss:Array[String],key:String):Int = {\n",
    "    def loop(n:Int):Int=\n",
    "        if (n>=ss.length) -1\n",
    "        else if (ss(n)==key) n\n",
    "        else loop(n+1)\n",
    "    loop(0)\n",
    "}\n",
    "\n",
    "findFirst(23425,5)"
   ]
  },
  {
   "cell_type": "code",
   "execution_count": null,
   "metadata": {
    "collapsed": true,
    "deletable": true,
    "editable": true
   },
   "outputs": [],
   "source": []
  },
  {
   "cell_type": "code",
   "execution_count": null,
   "metadata": {
    "collapsed": true,
    "deletable": true,
    "editable": true
   },
   "outputs": [],
   "source": []
  },
  {
   "cell_type": "code",
   "execution_count": null,
   "metadata": {
    "collapsed": true,
    "deletable": true,
    "editable": true
   },
   "outputs": [],
   "source": []
  },
  {
   "cell_type": "code",
   "execution_count": null,
   "metadata": {
    "collapsed": true,
    "deletable": true,
    "editable": true
   },
   "outputs": [],
   "source": []
  }
 ],
 "metadata": {
  "kernelspec": {
   "display_name": "Apache Toree - Scala",
   "language": "scala",
   "name": "apache_toree_scala"
  },
  "language_info": {
   "name": "scala",
   "version": "2.11.8"
  }
 },
 "nbformat": 4,
 "nbformat_minor": 2
}
