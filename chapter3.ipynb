{
 "cells": [
  {
   "cell_type": "code",
   "execution_count": 7,
   "metadata": {
    "collapsed": false,
    "deletable": true,
    "editable": true
   },
   "outputs": [],
   "source": [
    "sealed trait List[+A]\n",
    "    case object Nil extends List[Nothing]\n",
    "    case class Cons[+A](head:A,tail:List[A]) extends List[A]\n",
    "    object List{\n",
    "    def sum(ints:List[Int]):Int=ints match {\n",
    "            case Nil=>0\n",
    "            case Cons(x,xs)=>x+sum(xs)  \n",
    "        }\n",
    "        def product(ds:List[Double]):Double=ds match {\n",
    "            case Nil=>0.0\n",
    "            case Cons(0.0,_)=>0.0\n",
    "            case Cons(x,xs)=>x*product(xs)  \n",
    "        }\n",
    "        def apply[A](as:A*):List[A]=if(as.isEmpty) Nil else Cons(as.head,apply(as.tail:_*))\n",
    "  }\n",
    "\n",
    "val ex1:List[Int]=Cons(1,Nil)"
   ]
  },
  {
   "cell_type": "code",
   "execution_count": 8,
   "metadata": {
    "collapsed": false,
    "deletable": true,
    "editable": true
   },
   "outputs": [
    {
     "data": {
      "text/plain": [
       "Name: Compile Error\n",
       "Message: <console>:3: error: illegal start of simple expression\n",
       "sum([1,2,3])\n",
       "    ^\n",
       "StackTrace: "
      ]
     },
     "execution_count": 8,
     "metadata": {},
     "output_type": "execute_result"
    }
   ],
   "source": [
    "def sum(ints:List[Int]):Int=ints match {\n",
    "    case Nil=>0\n",
    "    case Cons(x,xs)=>x+sum(xs)\n",
    "    }\n",
    "def product(ds:List[Double]):Double=ds match {\n",
    "    case Nil=>0.0\n",
    "    case Cons(0.0,_)=>0.0\n",
    "    case Cons(x,xs)=>x*product(xs)  \n",
    "}\n",
    "\n",
    "\n",
    "sum([1,2,3])"
   ]
  }
 ],
 "metadata": {
  "kernelspec": {
   "display_name": "Apache Toree - Scala",
   "language": "scala",
   "name": "apache_toree_scala"
  },
  "language_info": {
   "name": "scala",
   "version": "2.11.8"
  }
 },
 "nbformat": 4,
 "nbformat_minor": 2
}
